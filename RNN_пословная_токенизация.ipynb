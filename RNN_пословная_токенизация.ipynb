{
  "cells": [
    {
      "cell_type": "code",
      "execution_count": null,
      "metadata": {
        "id": "hdlJCP9EMBJM",
        "colab": {
          "base_uri": "https://localhost:8080/"
        },
        "outputId": "f15c64e5-5cf5-405e-d3e9-f07fbec7e978"
      },
      "outputs": [
        {
          "output_type": "stream",
          "name": "stdout",
          "text": [
            "The autoreload extension is already loaded. To reload it, use:\n",
            "  %reload_ext autoreload\n"
          ]
        }
      ],
      "source": [
        "%load_ext autoreload\n",
        "%autoreload 2"
      ]
    },
    {
      "cell_type": "code",
      "execution_count": null,
      "metadata": {
        "id": "40zx_BlTNvWe"
      },
      "outputs": [],
      "source": [
        "import numpy as np\n",
        "import os\n",
        "import tensorflow as tf\n",
        "from tensorflow.data import Dataset, AUTOTUNE\n",
        "from tensorflow import keras\n",
        "import keras.layers as l\n",
        "from keras import models, callbacks, losses\n"
      ]
    },
    {
      "cell_type": "code",
      "execution_count": null,
      "metadata": {
        "id": "2sThozI1rMCI"
      },
      "outputs": [],
      "source": [
        "from typing import List\n",
        "from bs4 import BeautifulSoup\n",
        "import requests\n",
        "import os\n",
        "def request_url(url: str) -> BeautifulSoup:\n",
        "    request = requests.get(url)\n",
        "    soup = BeautifulSoup(request.content, 'html.parser')\n",
        "    return soup\n",
        "\n",
        "\n",
        "def get_url_data(url: str) -> List[str]:\n",
        "    soup = request_url(url)\n",
        "    scrapped_text = []\n",
        "\n",
        "    h1 = soup.h1.text.strip()\n",
        "    p = soup.find_all('p')\n",
        "\n",
        "    scrapped_text.append(h1)\n",
        "    scrapped_text.extend([p_i.text.strip() for p_i in p])\n",
        "\n",
        "    return scrapped_text\n",
        "\n",
        "def get_data(url: str) -> str:\n",
        "    soup = request_url(url)\n",
        "    text = []\n",
        "\n",
        "    text.extend([\n",
        "        soup.h1.text.strip() + '.',\n",
        "        soup.h2.text.strip() + '.',\n",
        "        soup.article.p.text.strip()\n",
        "    ])\n",
        "\n",
        "    url_chapters = [link.get('href') for link in soup.find_all('a', class_='link')]\n",
        "\n",
        "    for url in url_chapters:\n",
        "        scrapped_text = get_url_data(url)\n",
        "        text.extend(scrapped_text)\n",
        "\n",
        "    text = ' '.join(text).lower()\n",
        "\n",
        "    return text"
      ]
    },
    {
      "cell_type": "code",
      "execution_count": null,
      "metadata": {
        "id": "bXHeKpaOrHed"
      },
      "outputs": [],
      "source": [
        "def load_data(url: str, file_name: str, path_dir: str = 'data/') -> str:\n",
        "    if os.path.isdir(path_dir) == False:\n",
        "        os.mkdir(path_dir)\n",
        "        print(f'Created {path_dir} directory')\n",
        "\n",
        "    path_file = f'{path_dir}{file_name}'\n",
        "\n",
        "    try:\n",
        "        with open(path_file, 'r', encoding='utf-8') as file:\n",
        "            text = file.read()\n",
        "\n",
        "        print('Uploaded from', path_file)\n",
        "\n",
        "    except:\n",
        "        text = get_data(url)\n",
        "\n",
        "        with open(path_file, 'w', encoding='utf-8') as file:\n",
        "            file.write(text)\n",
        "\n",
        "        print('Saved to', path_file)\n",
        "\n",
        "    return text"
      ]
    },
    {
      "cell_type": "code",
      "execution_count": null,
      "metadata": {
        "colab": {
          "base_uri": "https://localhost:8080/"
        },
        "id": "V2Yidm1SsxhM",
        "outputId": "b2350e37-164d-4caa-c575-d54569f35282"
      },
      "outputs": [
        {
          "output_type": "stream",
          "name": "stdout",
          "text": [
            "Uploaded from data/hpmor.txt\n"
          ]
        }
      ],
      "source": [
        "text = load_data('https://hpmor.ru/', 'hpmor.txt')"
      ]
    },
    {
      "cell_type": "code",
      "execution_count": null,
      "metadata": {
        "id": "dhz_kviEPGNv"
      },
      "outputs": [],
      "source": [
        "import re\n",
        "def split_into_sentences(text: str, regex: str = '[^а-яА-ЯёЁ0-9 ,-]') -> List[str]:\n",
        "    sentences = [re.sub(regex, '', s).strip() for s in text.split('.')]\n",
        "    sentences = list(filter(None, sentences))\n",
        "    return sentences"
      ]
    },
    {
      "cell_type": "code",
      "execution_count": null,
      "metadata": {
        "id": "P_voocL8OcHs"
      },
      "outputs": [],
      "source": [
        "text_word = split_into_sentences(text, \"[^а-яА-ЯёЁ0-9 ,-]\")"
      ]
    },
    {
      "cell_type": "markdown",
      "metadata": {
        "id": "h7yashDdOFkE"
      },
      "source": [
        "**Токенизация:**"
      ]
    },
    {
      "cell_type": "code",
      "execution_count": null,
      "metadata": {
        "colab": {
          "base_uri": "https://localhost:8080/"
        },
        "id": "VVuPDLcJOCm2",
        "outputId": "64398ec5-add8-4076-e2ac-10f5a4647e5e"
      },
      "outputs": [
        {
          "output_type": "execute_result",
          "data": {
            "text/plain": [
              "array(['', ',', '-', ..., 'ёовтен', 'ёрзал', 'ёрзали'], dtype='<U70')"
            ]
          },
          "metadata": {},
          "execution_count": 30
        }
      ],
      "source": [
        "dictionary = np.array(sorted(set(' '.join(text_word).split(' '))))\n",
        "dictionary"
      ]
    },
    {
      "cell_type": "code",
      "execution_count": null,
      "metadata": {
        "id": "-1GPlbkRP85K"
      },
      "outputs": [],
      "source": [
        "tokenizer_word_to_index_word = {char: i for i, char in enumerate(dictionary)}\n",
        "tokenizer_index_to_word_word = {i: char for i, char in enumerate(dictionary)}"
      ]
    },
    {
      "cell_type": "markdown",
      "metadata": {
        "id": "lUMeNT_LQU_y"
      },
      "source": [
        "**Формирование датасета:**"
      ]
    },
    {
      "cell_type": "code",
      "execution_count": null,
      "metadata": {
        "id": "i1u46qweQStm"
      },
      "outputs": [],
      "source": [
        "vectorized_text = np.array([tokenizer_word_to_index_word[word] for word in ' '.join(text_word).split()])"
      ]
    },
    {
      "cell_type": "code",
      "execution_count": null,
      "metadata": {
        "id": "6KgPSdQYQOLM"
      },
      "outputs": [],
      "source": [
        "vectorized_text = Dataset.from_tensor_slices(vectorized_text)"
      ]
    },
    {
      "cell_type": "code",
      "execution_count": null,
      "metadata": {
        "id": "g51vr9cmRr7F"
      },
      "outputs": [],
      "source": [
        "VOCAB_LEN = len(tokenizer_word_to_index_word.items())\n",
        "BATCH_SIZE = 100"
      ]
    },
    {
      "cell_type": "code",
      "execution_count": null,
      "metadata": {
        "id": "pexkOXF4R3N4"
      },
      "outputs": [],
      "source": [
        "sequences = vectorized_text.batch(BATCH_SIZE, drop_remainder=True)"
      ]
    },
    {
      "cell_type": "code",
      "execution_count": null,
      "metadata": {
        "id": "h0EGY8mPmiCz"
      },
      "outputs": [],
      "source": [
        "BATCHES_PER_EPOCH = len(sequences) // BATCH_SIZE"
      ]
    },
    {
      "cell_type": "code",
      "execution_count": null,
      "metadata": {
        "id": "XIMLnGX3SDql"
      },
      "outputs": [],
      "source": [
        "from typing import Tuple, List\n",
        "def get_features_target(seq: tf.Tensor) -> Tuple[tf.Tensor, tf.Tensor]:\n",
        "    features = seq[:-1]\n",
        "    target = seq[1:]\n",
        "    return features, target"
      ]
    },
    {
      "cell_type": "code",
      "execution_count": null,
      "metadata": {
        "id": "bjmtnEgpSGyP"
      },
      "outputs": [],
      "source": [
        "df = sequences.map(get_features_target).batch(BATCH_SIZE, drop_remainder=True).repeat()\n",
        "df = df.prefetch(AUTOTUNE)"
      ]
    },
    {
      "cell_type": "markdown",
      "metadata": {
        "id": "FL3X6pD7SXOZ"
      },
      "source": [
        "**Построение и обучение модели:**"
      ]
    },
    {
      "cell_type": "code",
      "execution_count": null,
      "metadata": {
        "id": "HOvDh2hzSJrK"
      },
      "outputs": [],
      "source": [
        "model = keras.Sequential([\n",
        "    l.Embedding(len(dictionary), BATCH_SIZE, batch_input_shape=[BATCH_SIZE, None]),\n",
        "    l.SimpleRNN(512, return_sequences=True, stateful=True),\n",
        "    l.Dense(len(dictionary))\n",
        "])"
      ]
    },
    {
      "cell_type": "code",
      "execution_count": null,
      "metadata": {
        "colab": {
          "base_uri": "https://localhost:8080/"
        },
        "id": "qPX2O08tSu14",
        "outputId": "e6656396-d45a-4076-b9a8-11f84d639730"
      },
      "outputs": [
        {
          "output_type": "stream",
          "name": "stdout",
          "text": [
            "Model: \"sequential_1\"\n",
            "_________________________________________________________________\n",
            " Layer (type)                Output Shape              Param #   \n",
            "=================================================================\n",
            " embedding_1 (Embedding)     (100, None, 100)          6108100   \n",
            "                                                                 \n",
            " simple_rnn_1 (SimpleRNN)    (100, None, 512)          313856    \n",
            "                                                                 \n",
            " dense_1 (Dense)             (100, None, 61081)        31334553  \n",
            "                                                                 \n",
            "=================================================================\n",
            "Total params: 37756509 (144.03 MB)\n",
            "Trainable params: 37756509 (144.03 MB)\n",
            "Non-trainable params: 0 (0.00 Byte)\n",
            "_________________________________________________________________\n"
          ]
        }
      ],
      "source": [
        "model.summary()"
      ]
    },
    {
      "cell_type": "code",
      "execution_count": null,
      "metadata": {
        "id": "hmqFNy1RSwaG"
      },
      "outputs": [],
      "source": [
        "model.compile(\n",
        "    optimizer='adam',\n",
        "    loss=losses.SparseCategoricalCrossentropy(from_logits=True),\n",
        "    metrics=['accuracy']\n",
        ")"
      ]
    },
    {
      "cell_type": "code",
      "execution_count": null,
      "metadata": {
        "colab": {
          "base_uri": "https://localhost:8080/"
        },
        "id": "3cHYsQ1ES5BB",
        "outputId": "75ab8913-aa06-42b1-e81b-348097acfb74"
      },
      "outputs": [
        {
          "output_type": "stream",
          "name": "stdout",
          "text": [
            "Epoch 1/100\n",
            "53/53 [==============================] - 54s 989ms/step - loss: 9.0114 - accuracy: 0.0269\n",
            "Epoch 2/100\n",
            "53/53 [==============================] - 43s 820ms/step - loss: 8.4912 - accuracy: 0.0277\n",
            "Epoch 3/100\n",
            "53/53 [==============================] - 44s 833ms/step - loss: 8.5191 - accuracy: 0.0278\n",
            "Epoch 4/100\n",
            "53/53 [==============================] - 44s 826ms/step - loss: 8.5165 - accuracy: 0.0278\n",
            "Epoch 5/100\n",
            "53/53 [==============================] - 44s 831ms/step - loss: 8.5184 - accuracy: 0.0278\n",
            "Epoch 6/100\n",
            "53/53 [==============================] - 44s 831ms/step - loss: 8.5150 - accuracy: 0.0275\n",
            "Epoch 7/100\n",
            "53/53 [==============================] - 44s 829ms/step - loss: 8.5203 - accuracy: 0.0275\n",
            "Epoch 8/100\n",
            "53/53 [==============================] - 44s 831ms/step - loss: 8.5155 - accuracy: 0.0275\n",
            "Epoch 9/100\n",
            "53/53 [==============================] - 44s 837ms/step - loss: 8.5045 - accuracy: 0.0274\n",
            "Epoch 10/100\n",
            "53/53 [==============================] - 45s 848ms/step - loss: 8.4611 - accuracy: 0.0277\n",
            "Epoch 11/100\n",
            "53/53 [==============================] - 45s 853ms/step - loss: 8.2439 - accuracy: 0.0333\n",
            "Epoch 12/100\n",
            "53/53 [==============================] - 45s 855ms/step - loss: 8.0526 - accuracy: 0.0450\n",
            "Epoch 13/100\n",
            "53/53 [==============================] - 45s 854ms/step - loss: 7.9591 - accuracy: 0.0481\n",
            "Epoch 14/100\n",
            "53/53 [==============================] - 45s 854ms/step - loss: 7.8928 - accuracy: 0.0508\n",
            "Epoch 15/100\n",
            "53/53 [==============================] - 45s 858ms/step - loss: 7.8063 - accuracy: 0.0539\n",
            "Epoch 16/100\n",
            "53/53 [==============================] - 45s 856ms/step - loss: 7.6990 - accuracy: 0.0569\n",
            "Epoch 17/100\n",
            "53/53 [==============================] - 46s 860ms/step - loss: 7.6171 - accuracy: 0.0591\n",
            "Epoch 18/100\n",
            "53/53 [==============================] - 45s 857ms/step - loss: 7.5239 - accuracy: 0.0622\n",
            "Epoch 19/100\n",
            "53/53 [==============================] - 45s 858ms/step - loss: 7.4135 - accuracy: 0.0666\n",
            "Epoch 20/100\n",
            "53/53 [==============================] - 46s 861ms/step - loss: 7.2872 - accuracy: 0.0721\n",
            "Epoch 21/100\n",
            "53/53 [==============================] - 46s 860ms/step - loss: 7.1287 - accuracy: 0.0767\n",
            "Epoch 22/100\n",
            "53/53 [==============================] - 45s 857ms/step - loss: 6.9554 - accuracy: 0.0803\n",
            "Epoch 23/100\n",
            "53/53 [==============================] - 46s 860ms/step - loss: 6.8263 - accuracy: 0.0832\n",
            "Epoch 24/100\n",
            "53/53 [==============================] - 45s 856ms/step - loss: 6.6692 - accuracy: 0.0865\n",
            "Epoch 25/100\n",
            "53/53 [==============================] - 45s 857ms/step - loss: 6.5495 - accuracy: 0.0894\n",
            "Epoch 26/100\n",
            "53/53 [==============================] - 46s 860ms/step - loss: 6.4380 - accuracy: 0.0926\n",
            "Epoch 27/100\n",
            "53/53 [==============================] - 45s 857ms/step - loss: 6.4165 - accuracy: 0.0952\n",
            "Epoch 28/100\n",
            "53/53 [==============================] - 46s 861ms/step - loss: 6.2569 - accuracy: 0.0996\n",
            "Epoch 29/100\n",
            "53/53 [==============================] - 46s 862ms/step - loss: 6.1496 - accuracy: 0.1030\n",
            "Epoch 30/100\n",
            "53/53 [==============================] - 46s 859ms/step - loss: 6.0671 - accuracy: 0.1069\n",
            "Epoch 31/100\n",
            "53/53 [==============================] - 46s 862ms/step - loss: 5.9637 - accuracy: 0.1122\n",
            "Epoch 32/100\n",
            "53/53 [==============================] - 46s 863ms/step - loss: 5.8475 - accuracy: 0.1192\n",
            "Epoch 33/100\n",
            "53/53 [==============================] - 45s 857ms/step - loss: 5.7319 - accuracy: 0.1267\n",
            "Epoch 34/100\n",
            "53/53 [==============================] - 45s 858ms/step - loss: 5.6269 - accuracy: 0.1351\n",
            "Epoch 35/100\n",
            "53/53 [==============================] - 45s 858ms/step - loss: 5.5240 - accuracy: 0.1444\n",
            "Epoch 36/100\n",
            "53/53 [==============================] - 46s 861ms/step - loss: 5.4277 - accuracy: 0.1533\n",
            "Epoch 37/100\n",
            "53/53 [==============================] - 46s 859ms/step - loss: 5.3253 - accuracy: 0.1631\n",
            "Epoch 38/100\n",
            "53/53 [==============================] - 46s 863ms/step - loss: 5.2125 - accuracy: 0.1743\n",
            "Epoch 39/100\n",
            "53/53 [==============================] - 46s 859ms/step - loss: 5.0957 - accuracy: 0.1871\n",
            "Epoch 40/100\n",
            "53/53 [==============================] - 46s 860ms/step - loss: 4.9869 - accuracy: 0.1992\n",
            "Epoch 41/100\n",
            "53/53 [==============================] - 46s 859ms/step - loss: 4.8968 - accuracy: 0.2092\n",
            "Epoch 42/100\n",
            "53/53 [==============================] - 45s 857ms/step - loss: 4.8184 - accuracy: 0.2174\n",
            "Epoch 43/100\n",
            "53/53 [==============================] - 46s 860ms/step - loss: 4.7437 - accuracy: 0.2258\n",
            "Epoch 44/100\n",
            "53/53 [==============================] - 45s 854ms/step - loss: 4.6645 - accuracy: 0.2346\n",
            "Epoch 45/100\n",
            "53/53 [==============================] - 45s 856ms/step - loss: 4.5828 - accuracy: 0.2444\n",
            "Epoch 46/100\n",
            "53/53 [==============================] - 45s 854ms/step - loss: 4.5040 - accuracy: 0.2534\n",
            "Epoch 47/100\n",
            "53/53 [==============================] - 45s 856ms/step - loss: 4.4376 - accuracy: 0.2612\n",
            "Epoch 48/100\n",
            "53/53 [==============================] - 45s 858ms/step - loss: 4.3732 - accuracy: 0.2685\n",
            "Epoch 49/100\n",
            "53/53 [==============================] - 45s 855ms/step - loss: 4.3084 - accuracy: 0.2760\n",
            "Epoch 50/100\n",
            "53/53 [==============================] - 45s 856ms/step - loss: 4.2415 - accuracy: 0.2843\n",
            "Epoch 51/100\n",
            "53/53 [==============================] - 45s 855ms/step - loss: 4.1712 - accuracy: 0.2935\n",
            "Epoch 52/100\n",
            "53/53 [==============================] - 45s 854ms/step - loss: 4.1073 - accuracy: 0.3017\n",
            "Epoch 53/100\n",
            "53/53 [==============================] - 45s 856ms/step - loss: 4.0493 - accuracy: 0.3087\n",
            "Epoch 54/100\n",
            "53/53 [==============================] - 45s 854ms/step - loss: 3.9939 - accuracy: 0.3159\n",
            "Epoch 55/100\n",
            "53/53 [==============================] - 45s 856ms/step - loss: 3.9429 - accuracy: 0.3222\n",
            "Epoch 56/100\n",
            "53/53 [==============================] - 45s 856ms/step - loss: 3.8907 - accuracy: 0.3290\n",
            "Epoch 57/100\n",
            "53/53 [==============================] - 45s 856ms/step - loss: 3.8476 - accuracy: 0.3344\n",
            "Epoch 58/100\n",
            "53/53 [==============================] - 45s 855ms/step - loss: 3.8059 - accuracy: 0.3399\n",
            "Epoch 59/100\n",
            "53/53 [==============================] - 45s 853ms/step - loss: 3.7632 - accuracy: 0.3453\n",
            "Epoch 60/100\n",
            "53/53 [==============================] - 45s 856ms/step - loss: 3.7214 - accuracy: 0.3512\n",
            "Epoch 61/100\n",
            "53/53 [==============================] - 45s 856ms/step - loss: 3.6751 - accuracy: 0.3573\n",
            "Epoch 62/100\n",
            "53/53 [==============================] - 45s 853ms/step - loss: 3.6242 - accuracy: 0.3640\n",
            "Epoch 63/100\n",
            "53/53 [==============================] - 45s 854ms/step - loss: 3.5730 - accuracy: 0.3712\n",
            "Epoch 64/100\n",
            "53/53 [==============================] - 45s 852ms/step - loss: 3.5233 - accuracy: 0.3786\n",
            "Epoch 65/100\n",
            "53/53 [==============================] - 45s 856ms/step - loss: 3.4743 - accuracy: 0.3857\n",
            "Epoch 66/100\n",
            "53/53 [==============================] - 45s 856ms/step - loss: 3.4255 - accuracy: 0.3925\n",
            "Epoch 67/100\n",
            "53/53 [==============================] - 45s 856ms/step - loss: 3.3795 - accuracy: 0.3990\n",
            "Epoch 68/100\n",
            "53/53 [==============================] - 45s 850ms/step - loss: 3.3351 - accuracy: 0.4052\n",
            "Epoch 69/100\n",
            "53/53 [==============================] - 45s 856ms/step - loss: 3.2915 - accuracy: 0.4116\n",
            "Epoch 70/100\n",
            "53/53 [==============================] - 45s 854ms/step - loss: 3.2541 - accuracy: 0.4171\n",
            "Epoch 71/100\n",
            "53/53 [==============================] - 45s 854ms/step - loss: 3.2202 - accuracy: 0.4223\n",
            "Epoch 72/100\n",
            "53/53 [==============================] - 45s 858ms/step - loss: 3.1901 - accuracy: 0.4267\n",
            "Epoch 73/100\n",
            "53/53 [==============================] - 45s 853ms/step - loss: 3.1563 - accuracy: 0.4317\n",
            "Epoch 74/100\n",
            "53/53 [==============================] - 45s 854ms/step - loss: 3.1211 - accuracy: 0.4369\n",
            "Epoch 75/100\n",
            "53/53 [==============================] - 45s 853ms/step - loss: 3.0910 - accuracy: 0.4412\n",
            "Epoch 76/100\n",
            "53/53 [==============================] - 45s 854ms/step - loss: 3.0598 - accuracy: 0.4459\n",
            "Epoch 77/100\n",
            "53/53 [==============================] - 46s 860ms/step - loss: 3.0395 - accuracy: 0.4488\n",
            "Epoch 78/100\n",
            "53/53 [==============================] - 45s 858ms/step - loss: 3.0177 - accuracy: 0.4520\n",
            "Epoch 79/100\n",
            "53/53 [==============================] - 45s 856ms/step - loss: 2.9921 - accuracy: 0.4559\n",
            "Epoch 80/100\n",
            "53/53 [==============================] - 45s 856ms/step - loss: 2.9664 - accuracy: 0.4596\n",
            "Epoch 81/100\n",
            "53/53 [==============================] - 45s 856ms/step - loss: 2.9490 - accuracy: 0.4618\n",
            "Epoch 82/100\n",
            "53/53 [==============================] - 45s 853ms/step - loss: 2.9319 - accuracy: 0.4644\n",
            "Epoch 83/100\n",
            "53/53 [==============================] - 45s 854ms/step - loss: 2.9048 - accuracy: 0.4682\n",
            "Epoch 84/100\n",
            "53/53 [==============================] - 45s 857ms/step - loss: 2.8748 - accuracy: 0.4726\n",
            "Epoch 85/100\n",
            "53/53 [==============================] - 45s 855ms/step - loss: 2.8526 - accuracy: 0.4757\n",
            "Epoch 86/100\n",
            "53/53 [==============================] - 45s 855ms/step - loss: 2.8278 - accuracy: 0.4796\n",
            "Epoch 87/100\n",
            "53/53 [==============================] - 45s 856ms/step - loss: 2.8007 - accuracy: 0.4835\n",
            "Epoch 88/100\n",
            "53/53 [==============================] - 45s 857ms/step - loss: 2.7727 - accuracy: 0.4878\n",
            "Epoch 89/100\n",
            "53/53 [==============================] - 45s 854ms/step - loss: 2.7504 - accuracy: 0.4912\n",
            "Epoch 90/100\n",
            "53/53 [==============================] - 45s 852ms/step - loss: 2.7340 - accuracy: 0.4935\n",
            "Epoch 91/100\n",
            "53/53 [==============================] - 45s 855ms/step - loss: 2.7153 - accuracy: 0.4962\n",
            "Epoch 92/100\n",
            "53/53 [==============================] - 45s 855ms/step - loss: 2.6965 - accuracy: 0.4987\n",
            "Epoch 93/100\n",
            "53/53 [==============================] - 45s 854ms/step - loss: 2.6768 - accuracy: 0.5011\n",
            "Epoch 94/100\n",
            "53/53 [==============================] - 45s 855ms/step - loss: 2.6509 - accuracy: 0.5057\n",
            "Epoch 95/100\n",
            "53/53 [==============================] - 45s 852ms/step - loss: 2.6243 - accuracy: 0.5096\n",
            "Epoch 96/100\n",
            "53/53 [==============================] - 45s 855ms/step - loss: 2.5967 - accuracy: 0.5146\n",
            "Epoch 97/100\n",
            "53/53 [==============================] - 45s 854ms/step - loss: 2.5703 - accuracy: 0.5190\n",
            "Epoch 98/100\n",
            "53/53 [==============================] - 45s 857ms/step - loss: 2.5433 - accuracy: 0.5232\n",
            "Epoch 99/100\n",
            "53/53 [==============================] - 45s 855ms/step - loss: 2.5183 - accuracy: 0.5271\n",
            "Epoch 100/100\n",
            "53/53 [==============================] - 45s 854ms/step - loss: 2.4998 - accuracy: 0.5301\n"
          ]
        }
      ],
      "source": [
        "pred = model.fit(\n",
        "    df,\n",
        "    epochs=100,\n",
        "    verbose=1,\n",
        "    steps_per_epoch=BATCHES_PER_EPOCH\n",
        ")"
      ]
    }
  ],
  "metadata": {
    "accelerator": "GPU",
    "colab": {
      "gpuType": "T4",
      "provenance": []
    },
    "kernelspec": {
      "display_name": "Python 3",
      "name": "python3"
    },
    "language_info": {
      "name": "python"
    }
  },
  "nbformat": 4,
  "nbformat_minor": 0
}