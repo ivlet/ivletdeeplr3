{
  "cells": [
    {
      "cell_type": "markdown",
      "metadata": {
        "id": "95rrUNo0n_0V"
      },
      "source": [
        "\n",
        "**RNN c посимвольной токенизацией:**\n",
        "\n"
      ]
    },
    {
      "cell_type": "markdown",
      "metadata": {
        "id": "NpOVRQjNddqO"
      },
      "source": [
        "**Подготовка:**\n"
      ]
    },
    {
      "cell_type": "code",
      "execution_count": null,
      "metadata": {
        "colab": {
          "base_uri": "https://localhost:8080/"
        },
        "id": "1bX3dq3An4-5",
        "outputId": "fec235de-c604-494b-a6e0-a28b37466f7c"
      },
      "outputs": [
        {
          "name": "stdout",
          "output_type": "stream",
          "text": [
            "The autoreload extension is already loaded. To reload it, use:\n",
            "  %reload_ext autoreload\n"
          ]
        }
      ],
      "source": [
        "%load_ext autoreload\n",
        "%autoreload 2"
      ]
    },
    {
      "cell_type": "code",
      "execution_count": null,
      "metadata": {
        "id": "C9p_75z5oaRN"
      },
      "outputs": [],
      "source": [
        "import numpy as np\n",
        "import os\n",
        "\n",
        "import tensorflow as tf\n",
        "from tensorflow.data import Dataset, AUTOTUNE\n",
        "from tensorflow import keras\n",
        "\n",
        "from keras import models, callbacks, utils, losses\n"
      ]
    },
    {
      "cell_type": "code",
      "execution_count": null,
      "metadata": {
        "id": "2sThozI1rMCI"
      },
      "outputs": [],
      "source": [
        "from typing import List\n",
        "from bs4 import BeautifulSoup\n",
        "import requests\n",
        "import os\n",
        "def request_url(url: str) -> BeautifulSoup:\n",
        "    request = requests.get(url)\n",
        "    soup = BeautifulSoup(request.content, 'html.parser')\n",
        "    return soup\n",
        "\n",
        "\n",
        "def get_url_data(url: str) -> List[str]:\n",
        "    soup = request_url(url)\n",
        "    scrapped_text = []\n",
        "\n",
        "    h1 = soup.h1.text.strip()\n",
        "    p = soup.find_all('p')\n",
        "\n",
        "    scrapped_text.append(h1)\n",
        "    scrapped_text.extend([p_i.text.strip() for p_i in p])\n",
        "\n",
        "    return scrapped_text\n",
        "\n",
        "def get_data(url: str) -> str:\n",
        "    soup = request_url(url)\n",
        "    text = []\n",
        "\n",
        "    text.extend([\n",
        "        soup.h1.text.strip() + '.',\n",
        "        soup.h2.text.strip() + '.',\n",
        "        soup.article.p.text.strip()\n",
        "    ])\n",
        "\n",
        "    url_chapters = [link.get('href') for link in soup.find_all('a', class_='link')]\n",
        "\n",
        "    for url in url_chapters:\n",
        "        scrapped_text = get_url_data(url)\n",
        "        text.extend(scrapped_text)\n",
        "\n",
        "    text = ' '.join(text).lower()\n",
        "\n",
        "    return text"
      ]
    },
    {
      "cell_type": "code",
      "execution_count": null,
      "metadata": {
        "id": "bXHeKpaOrHed"
      },
      "outputs": [],
      "source": [
        "def load_data(url: str, file_name: str, path_dir: str = 'data/') -> str:\n",
        "    if os.path.isdir(path_dir) == False:\n",
        "        os.mkdir(path_dir)\n",
        "        print(f'Created {path_dir} directory')\n",
        "\n",
        "    path_file = f'{path_dir}{file_name}'\n",
        "\n",
        "    try:\n",
        "        with open(path_file, 'r', encoding='utf-8') as file:\n",
        "            text = file.read()\n",
        "\n",
        "        print('Uploaded from', path_file)\n",
        "\n",
        "    except:\n",
        "        text = get_data(url)\n",
        "\n",
        "        with open(path_file, 'w', encoding='utf-8') as file:\n",
        "            file.write(text)\n",
        "\n",
        "        print('Saved to', path_file)\n",
        "\n",
        "    return text"
      ]
    },
    {
      "cell_type": "code",
      "execution_count": null,
      "metadata": {
        "colab": {
          "base_uri": "https://localhost:8080/"
        },
        "id": "V2Yidm1SsxhM",
        "outputId": "02510dc0-013d-4ee0-c052-c8d484a8c241"
      },
      "outputs": [
        {
          "name": "stdout",
          "output_type": "stream",
          "text": [
            "Created data/ directory\n",
            "Saved to data/hpmor.txt\n"
          ]
        }
      ],
      "source": [
        "text = load_data('https://hpmor.ru/', 'hpmor.txt')"
      ]
    },
    {
      "cell_type": "markdown",
      "metadata": {
        "id": "ZFqVb2eidjvO"
      },
      "source": [
        "**Токенизация:**"
      ]
    },
    {
      "cell_type": "markdown",
      "metadata": {
        "id": "O60gTyFId-6B"
      },
      "source": [
        "Словарь для посимвольной токенизации:"
      ]
    },
    {
      "cell_type": "code",
      "execution_count": null,
      "metadata": {
        "colab": {
          "base_uri": "https://localhost:8080/"
        },
        "id": "pIqj6LKwbsVy",
        "outputId": "984aaa75-1954-4675-bbf3-856d13376f0f"
      },
      "outputs": [
        {
          "data": {
            "text/plain": [
              "array(['\\n', ' ', '!', '#', '$', '%', '&', '(', ')', '*', '+', ',', '-',\n",
              "       '.', '/', '0', '1', '2', '3', '4', '5', '6', '7', '8', '9', ':',\n",
              "       ';', '=', '?', '[', '\\\\', ']', '_', 'a', 'b', 'c', 'd', 'e', 'f',\n",
              "       'g', 'h', 'i', 'j', 'k', 'l', 'm', 'n', 'o', 'p', 'q', 'r', 's',\n",
              "       't', 'u', 'v', 'w', 'x', 'y', 'z', '«', '»', '×', 'é', 'ð', 'ó',\n",
              "       'þ', '́', 'а', 'б', 'в', 'г', 'д', 'е', 'ж', 'з', 'и', 'й', 'к',\n",
              "       'л', 'м', 'н', 'о', 'п', 'р', 'с', 'т', 'у', 'ф', 'х', 'ц', 'ч',\n",
              "       'ш', 'щ', 'ъ', 'ы', 'ь', 'э', 'ю', 'я', 'ё', 'ѝ', '–', '—', '’',\n",
              "       '“', '”', '„', '…', '№', '∀', '∄', '−'], dtype='<U1')"
            ]
          },
          "execution_count": 8,
          "metadata": {},
          "output_type": "execute_result"
        }
      ],
      "source": [
        "dictionary = np.array(sorted(set(text)))\n",
        "dictionary"
      ]
    },
    {
      "cell_type": "code",
      "execution_count": null,
      "metadata": {
        "id": "0i8p0nInkMer"
      },
      "outputs": [],
      "source": [
        "tokenizer_word_to_index_symbol = {char: i for i, char in enumerate(dictionary)}\n",
        "tokenizer_index_to_word_symbol = {i: char for i, char in enumerate(dictionary)}"
      ]
    },
    {
      "cell_type": "markdown",
      "metadata": {
        "id": "tTX0fI_slVoU"
      },
      "source": [
        "**Формирование датасета:**"
      ]
    },
    {
      "cell_type": "code",
      "execution_count": null,
      "metadata": {
        "id": "RLh32rvMla3L"
      },
      "outputs": [],
      "source": [
        "vectorized_text = np.array([tokenizer_word_to_index_symbol[char] for char in text])"
      ]
    },
    {
      "cell_type": "code",
      "execution_count": null,
      "metadata": {
        "id": "-kyeH3Q6lttD"
      },
      "outputs": [],
      "source": [
        "vectorized_text = Dataset.from_tensor_slices(vectorized_text)"
      ]
    },
    {
      "cell_type": "code",
      "execution_count": null,
      "metadata": {
        "id": "eDkCqwGTl1Dh"
      },
      "outputs": [],
      "source": [
        "VOCAB_LEN = len(tokenizer_word_to_index_symbol.items())\n",
        "BATCH_SIZE = 100"
      ]
    },
    {
      "cell_type": "code",
      "execution_count": null,
      "metadata": {
        "id": "VF_Z9tQll1vH"
      },
      "outputs": [],
      "source": [
        "sequences = vectorized_text.batch(BATCH_SIZE, drop_remainder=True)"
      ]
    },
    {
      "cell_type": "code",
      "execution_count": null,
      "metadata": {
        "id": "h0EGY8mPmiCz"
      },
      "outputs": [],
      "source": [
        "BATCHES_PER_EPOCH = len(sequences) // BATCH_SIZE"
      ]
    },
    {
      "cell_type": "code",
      "execution_count": null,
      "metadata": {
        "id": "o36kSqFnnLXg"
      },
      "outputs": [],
      "source": [
        "from typing import Tuple, List\n",
        "def get_features_target(seq: tf.Tensor) -> Tuple[tf.Tensor, tf.Tensor]:\n",
        "    features = seq[:-1]\n",
        "    target = seq[1:]\n",
        "    return features, target"
      ]
    },
    {
      "cell_type": "code",
      "execution_count": null,
      "metadata": {
        "id": "7CCKaL8CmunR"
      },
      "outputs": [],
      "source": [
        "df = sequences.map(get_features_target).batch(BATCH_SIZE, drop_remainder=True).repeat()\n",
        "df = df.prefetch(AUTOTUNE)"
      ]
    },
    {
      "cell_type": "markdown",
      "metadata": {
        "id": "DBLEvTXSnrey"
      },
      "source": [
        "**Построение и обучение модели:**"
      ]
    },
    {
      "cell_type": "code",
      "execution_count": null,
      "metadata": {
        "id": "6-vDoNpMqurz"
      },
      "outputs": [],
      "source": [
        "vectorizer = keras.layers.experimental.preprocessing.TextVectorization(\n",
        "    max_tokens=len(dictionary),\n",
        "    input_shape=(1,))"
      ]
    },
    {
      "cell_type": "code",
      "execution_count": null,
      "metadata": {
        "id": "NpvdYDddryYB"
      },
      "outputs": [],
      "source": [
        "model = keras.Sequential([\n",
        "    l.Embedding(len(dictionary), BATCH_SIZE, batch_input_shape=[BATCH_SIZE, None]),\n",
        "    l.SimpleRNN(512, return_sequences=True, stateful=True),\n",
        "    l.Dense(len(dictionary))\n",
        "])"
      ]
    },
    {
      "cell_type": "code",
      "execution_count": null,
      "metadata": {
        "colab": {
          "base_uri": "https://localhost:8080/"
        },
        "id": "tcLAVTuTovGi",
        "outputId": "ac9fdf5e-f674-4ae0-8b20-1458ed54d6d9"
      },
      "outputs": [
        {
          "name": "stdout",
          "output_type": "stream",
          "text": [
            "Model: \"sequential_15\"\n",
            "_________________________________________________________________\n",
            " Layer (type)                Output Shape              Param #   \n",
            "=================================================================\n",
            " embedding_16 (Embedding)    (100, None, 100)          11200     \n",
            "                                                                 \n",
            " simple_rnn_10 (SimpleRNN)   (100, None, 512)          313856    \n",
            "                                                                 \n",
            " dense_15 (Dense)            (100, None, 112)          57456     \n",
            "                                                                 \n",
            "=================================================================\n",
            "Total params: 382512 (1.46 MB)\n",
            "Trainable params: 382512 (1.46 MB)\n",
            "Non-trainable params: 0 (0.00 Byte)\n",
            "_________________________________________________________________\n"
          ]
        }
      ],
      "source": [
        "model.summary()"
      ]
    },
    {
      "cell_type": "code",
      "execution_count": null,
      "metadata": {
        "id": "FZc843CBqwb0"
      },
      "outputs": [],
      "source": [
        "model.compile(\n",
        "    optimizer='adam',\n",
        "    loss=losses.SparseCategoricalCrossentropy(from_logits=True),\n",
        "    metrics=['accuracy']\n",
        ")"
      ]
    },
    {
      "cell_type": "code",
      "execution_count": null,
      "metadata": {
        "colab": {
          "base_uri": "https://localhost:8080/"
        },
        "id": "6uWKeddsqdsc",
        "outputId": "fbe20960-acf6-4328-93aa-d2028b1bb29d"
      },
      "outputs": [
        {
          "name": "stdout",
          "output_type": "stream",
          "text": [
            "Epoch 1/100\n",
            "360/360 [==============================] - 45s 118ms/step - loss: 2.5307 - accuracy: 0.2871\n",
            "Epoch 2/100\n",
            "360/360 [==============================] - 34s 94ms/step - loss: 2.0132 - accuracy: 0.4169\n",
            "Epoch 3/100\n",
            "360/360 [==============================] - 36s 100ms/step - loss: 1.7965 - accuracy: 0.4760\n",
            "Epoch 4/100\n",
            "360/360 [==============================] - 35s 98ms/step - loss: 1.6581 - accuracy: 0.5102\n",
            "Epoch 5/100\n",
            "360/360 [==============================] - 35s 97ms/step - loss: 1.5832 - accuracy: 0.5285\n",
            "Epoch 6/100\n",
            "360/360 [==============================] - 36s 101ms/step - loss: 1.5328 - accuracy: 0.5407\n",
            "Epoch 7/100\n",
            "360/360 [==============================] - 35s 97ms/step - loss: 1.4965 - accuracy: 0.5496\n",
            "Epoch 8/100\n",
            "360/360 [==============================] - 34s 96ms/step - loss: 1.4690 - accuracy: 0.5566\n",
            "Epoch 9/100\n",
            "360/360 [==============================] - 35s 98ms/step - loss: 1.4471 - accuracy: 0.5621\n",
            "Epoch 10/100\n",
            "360/360 [==============================] - 34s 94ms/step - loss: 1.4292 - accuracy: 0.5665\n",
            "Epoch 11/100\n",
            "360/360 [==============================] - 35s 97ms/step - loss: 1.4142 - accuracy: 0.5703\n",
            "Epoch 12/100\n",
            "360/360 [==============================] - 35s 97ms/step - loss: 1.4016 - accuracy: 0.5736\n",
            "Epoch 13/100\n",
            "360/360 [==============================] - 34s 94ms/step - loss: 1.3909 - accuracy: 0.5764\n",
            "Epoch 14/100\n",
            "360/360 [==============================] - 36s 99ms/step - loss: 1.3817 - accuracy: 0.5789\n",
            "Epoch 15/100\n",
            "360/360 [==============================] - 35s 98ms/step - loss: 1.3734 - accuracy: 0.5811\n",
            "Epoch 16/100\n",
            "360/360 [==============================] - 34s 94ms/step - loss: 1.3659 - accuracy: 0.5834\n",
            "Epoch 17/100\n",
            "360/360 [==============================] - 35s 97ms/step - loss: 1.3590 - accuracy: 0.5853\n",
            "Epoch 18/100\n",
            "360/360 [==============================] - 35s 96ms/step - loss: 1.3528 - accuracy: 0.5870\n",
            "Epoch 19/100\n",
            "360/360 [==============================] - 35s 97ms/step - loss: 1.3472 - accuracy: 0.5885\n",
            "Epoch 20/100\n",
            "360/360 [==============================] - 36s 99ms/step - loss: 1.3422 - accuracy: 0.5900\n",
            "Epoch 21/100\n",
            "360/360 [==============================] - 34s 93ms/step - loss: 1.3378 - accuracy: 0.5912\n",
            "Epoch 22/100\n",
            "360/360 [==============================] - 35s 96ms/step - loss: 1.3342 - accuracy: 0.5922\n",
            "Epoch 23/100\n",
            "360/360 [==============================] - 35s 98ms/step - loss: 1.3307 - accuracy: 0.5932\n",
            "Epoch 24/100\n",
            "360/360 [==============================] - 34s 94ms/step - loss: 1.3279 - accuracy: 0.5939\n",
            "Epoch 25/100\n",
            "360/360 [==============================] - 35s 98ms/step - loss: 1.3259 - accuracy: 0.5944\n",
            "Epoch 26/100\n",
            "360/360 [==============================] - 33s 93ms/step - loss: 1.3248 - accuracy: 0.5947\n",
            "Epoch 27/100\n",
            "360/360 [==============================] - 35s 96ms/step - loss: 1.3227 - accuracy: 0.5952\n",
            "Epoch 28/100\n",
            "360/360 [==============================] - 35s 96ms/step - loss: 1.3198 - accuracy: 0.5960\n",
            "Epoch 29/100\n",
            "360/360 [==============================] - 34s 93ms/step - loss: 1.3175 - accuracy: 0.5967\n",
            "Epoch 30/100\n",
            "360/360 [==============================] - 36s 99ms/step - loss: 1.3160 - accuracy: 0.5970\n",
            "Epoch 31/100\n",
            "360/360 [==============================] - 36s 100ms/step - loss: 1.3153 - accuracy: 0.5971\n",
            "Epoch 32/100\n",
            "360/360 [==============================] - 34s 94ms/step - loss: 1.3148 - accuracy: 0.5972\n",
            "Epoch 33/100\n",
            "360/360 [==============================] - 35s 97ms/step - loss: 1.3139 - accuracy: 0.5976\n",
            "Epoch 34/100\n",
            "360/360 [==============================] - 34s 96ms/step - loss: 1.3130 - accuracy: 0.5979\n",
            "Epoch 35/100\n",
            "360/360 [==============================] - 34s 93ms/step - loss: 1.3114 - accuracy: 0.5984\n",
            "Epoch 36/100\n",
            "360/360 [==============================] - 34s 95ms/step - loss: 1.3097 - accuracy: 0.5989\n",
            "Epoch 37/100\n",
            "360/360 [==============================] - 33s 93ms/step - loss: 1.3083 - accuracy: 0.5992\n",
            "Epoch 38/100\n",
            "360/360 [==============================] - 34s 95ms/step - loss: 1.3072 - accuracy: 0.5996\n",
            "Epoch 39/100\n",
            "360/360 [==============================] - 34s 95ms/step - loss: 1.3062 - accuracy: 0.5999\n",
            "Epoch 40/100\n",
            "360/360 [==============================] - 34s 93ms/step - loss: 1.3047 - accuracy: 0.6005\n",
            "Epoch 41/100\n",
            "360/360 [==============================] - 34s 95ms/step - loss: 1.3036 - accuracy: 0.6007\n",
            "Epoch 42/100\n",
            "360/360 [==============================] - 33s 93ms/step - loss: 1.3036 - accuracy: 0.6008\n",
            "Epoch 43/100\n",
            "360/360 [==============================] - 34s 95ms/step - loss: 1.3032 - accuracy: 0.6007\n",
            "Epoch 44/100\n",
            "360/360 [==============================] - 33s 93ms/step - loss: 1.3027 - accuracy: 0.6008\n",
            "Epoch 45/100\n",
            "360/360 [==============================] - 34s 95ms/step - loss: 1.3017 - accuracy: 0.6010\n",
            "Epoch 46/100\n",
            "360/360 [==============================] - 34s 94ms/step - loss: 1.3009 - accuracy: 0.6012\n",
            "Epoch 47/100\n",
            "360/360 [==============================] - 34s 93ms/step - loss: 1.3000 - accuracy: 0.6013\n",
            "Epoch 48/100\n",
            "360/360 [==============================] - 34s 96ms/step - loss: 1.2998 - accuracy: 0.6015\n",
            "Epoch 49/100\n",
            "360/360 [==============================] - 32s 90ms/step - loss: 1.2992 - accuracy: 0.6016\n",
            "Epoch 50/100\n",
            "360/360 [==============================] - 34s 96ms/step - loss: 1.2965 - accuracy: 0.6026\n",
            "Epoch 51/100\n",
            "360/360 [==============================] - 33s 92ms/step - loss: 1.2964 - accuracy: 0.6025\n",
            "Epoch 52/100\n",
            "360/360 [==============================] - 35s 96ms/step - loss: 1.2957 - accuracy: 0.6027\n",
            "Epoch 53/100\n",
            "360/360 [==============================] - 34s 95ms/step - loss: 1.2946 - accuracy: 0.6030\n",
            "Epoch 54/100\n",
            "360/360 [==============================] - 33s 91ms/step - loss: 1.2943 - accuracy: 0.6031\n",
            "Epoch 55/100\n",
            "360/360 [==============================] - 34s 94ms/step - loss: 1.3480 - accuracy: 0.5872\n",
            "Epoch 56/100\n",
            "360/360 [==============================] - 33s 92ms/step - loss: 1.3116 - accuracy: 0.5975\n",
            "Epoch 57/100\n",
            "360/360 [==============================] - 34s 95ms/step - loss: 1.2956 - accuracy: 0.6023\n",
            "Epoch 58/100\n",
            "360/360 [==============================] - 33s 92ms/step - loss: 1.2902 - accuracy: 0.6039\n",
            "Epoch 59/100\n",
            "360/360 [==============================] - 34s 94ms/step - loss: 1.2880 - accuracy: 0.6048\n",
            "Epoch 60/100\n",
            "360/360 [==============================] - 34s 94ms/step - loss: 1.2872 - accuracy: 0.6050\n",
            "Epoch 61/100\n",
            "360/360 [==============================] - 33s 92ms/step - loss: 1.2859 - accuracy: 0.6055\n",
            "Epoch 62/100\n",
            "360/360 [==============================] - 34s 94ms/step - loss: 1.2880 - accuracy: 0.6048\n",
            "Epoch 63/100\n",
            "360/360 [==============================] - 33s 90ms/step - loss: 1.2866 - accuracy: 0.6052\n",
            "Epoch 64/100\n",
            "360/360 [==============================] - 34s 95ms/step - loss: 1.2852 - accuracy: 0.6056\n",
            "Epoch 65/100\n",
            "360/360 [==============================] - 33s 91ms/step - loss: 1.2869 - accuracy: 0.6051\n",
            "Epoch 66/100\n",
            "360/360 [==============================] - 34s 96ms/step - loss: 1.2862 - accuracy: 0.6053\n",
            "Epoch 67/100\n",
            "360/360 [==============================] - 33s 91ms/step - loss: 1.2855 - accuracy: 0.6054\n",
            "Epoch 68/100\n",
            "360/360 [==============================] - 35s 96ms/step - loss: 1.2889 - accuracy: 0.6043\n",
            "Epoch 69/100\n",
            "360/360 [==============================] - 33s 92ms/step - loss: 1.2888 - accuracy: 0.6044\n",
            "Epoch 70/100\n",
            "360/360 [==============================] - 34s 94ms/step - loss: 1.2926 - accuracy: 0.6031\n",
            "Epoch 71/100\n",
            "360/360 [==============================] - 34s 95ms/step - loss: 1.2876 - accuracy: 0.6046\n",
            "Epoch 72/100\n",
            "360/360 [==============================] - 33s 91ms/step - loss: 1.2846 - accuracy: 0.6056\n",
            "Epoch 73/100\n",
            "360/360 [==============================] - 34s 94ms/step - loss: 1.2894 - accuracy: 0.6039\n",
            "Epoch 74/100\n",
            "360/360 [==============================] - 33s 92ms/step - loss: 1.2844 - accuracy: 0.6056\n",
            "Epoch 75/100\n",
            "360/360 [==============================] - 34s 94ms/step - loss: 1.2853 - accuracy: 0.6054\n",
            "Epoch 76/100\n",
            "360/360 [==============================] - 33s 92ms/step - loss: 1.3175 - accuracy: 0.5955\n",
            "Epoch 77/100\n",
            "360/360 [==============================] - 34s 94ms/step - loss: 1.2921 - accuracy: 0.6030\n",
            "Epoch 78/100\n",
            "360/360 [==============================] - 34s 94ms/step - loss: 1.2833 - accuracy: 0.6057\n",
            "Epoch 79/100\n",
            "360/360 [==============================] - 33s 92ms/step - loss: 1.2822 - accuracy: 0.6061\n",
            "Epoch 80/100\n",
            "360/360 [==============================] - 35s 96ms/step - loss: 1.2899 - accuracy: 0.6040\n",
            "Epoch 81/100\n",
            "360/360 [==============================] - 33s 90ms/step - loss: 1.2849 - accuracy: 0.6054\n",
            "Epoch 82/100\n",
            "360/360 [==============================] - 35s 96ms/step - loss: 1.2943 - accuracy: 0.6023\n",
            "Epoch 83/100\n",
            "360/360 [==============================] - 33s 92ms/step - loss: 1.2857 - accuracy: 0.6050\n",
            "Epoch 84/100\n",
            "360/360 [==============================] - 34s 96ms/step - loss: 1.2822 - accuracy: 0.6060\n",
            "Epoch 85/100\n",
            "360/360 [==============================] - 33s 91ms/step - loss: 1.2805 - accuracy: 0.6065\n",
            "Epoch 86/100\n",
            "360/360 [==============================] - 34s 95ms/step - loss: 1.2801 - accuracy: 0.6068\n",
            "Epoch 87/100\n",
            "360/360 [==============================] - 34s 95ms/step - loss: 1.2811 - accuracy: 0.6063\n",
            "Epoch 88/100\n",
            "360/360 [==============================] - 33s 93ms/step - loss: 1.2818 - accuracy: 0.6061\n",
            "Epoch 89/100\n",
            "360/360 [==============================] - 34s 96ms/step - loss: 1.3705 - accuracy: 0.5806\n",
            "Epoch 90/100\n",
            "360/360 [==============================] - 33s 91ms/step - loss: 1.2943 - accuracy: 0.6022\n",
            "Epoch 91/100\n",
            "360/360 [==============================] - 34s 95ms/step - loss: 1.2844 - accuracy: 0.6055\n",
            "Epoch 92/100\n",
            "360/360 [==============================] - 34s 94ms/step - loss: 1.2868 - accuracy: 0.6047\n",
            "Epoch 93/100\n",
            "360/360 [==============================] - 37s 102ms/step - loss: 1.2796 - accuracy: 0.6067\n",
            "Epoch 94/100\n",
            "360/360 [==============================] - 35s 96ms/step - loss: 1.2805 - accuracy: 0.6063\n",
            "Epoch 95/100\n",
            "360/360 [==============================] - 35s 96ms/step - loss: 1.2782 - accuracy: 0.6071\n",
            "Epoch 96/100\n",
            "360/360 [==============================] - 34s 95ms/step - loss: 1.2786 - accuracy: 0.6071\n",
            "Epoch 97/100\n",
            "360/360 [==============================] - 34s 95ms/step - loss: 1.3282 - accuracy: 0.5922\n",
            "Epoch 98/100\n",
            "360/360 [==============================] - 33s 92ms/step - loss: 1.2857 - accuracy: 0.6047\n",
            "Epoch 99/100\n",
            "360/360 [==============================] - 34s 94ms/step - loss: 1.2801 - accuracy: 0.6064\n",
            "Epoch 100/100\n",
            "360/360 [==============================] - 33s 92ms/step - loss: 1.2795 - accuracy: 0.6066\n"
          ]
        }
      ],
      "source": [
        "preds = model.fit(\n",
        "    df,\n",
        "    epochs=100,\n",
        "    steps_per_epoch=BATCHES_PER_EPOCH\n",
        ")"
      ]
    }
  ],
  "metadata": {
    "accelerator": "GPU",
    "colab": {
      "gpuType": "T4",
      "provenance": []
    },
    "kernelspec": {
      "display_name": "Python 3",
      "name": "python3"
    },
    "language_info": {
      "name": "python"
    }
  },
  "nbformat": 4,
  "nbformat_minor": 0
}