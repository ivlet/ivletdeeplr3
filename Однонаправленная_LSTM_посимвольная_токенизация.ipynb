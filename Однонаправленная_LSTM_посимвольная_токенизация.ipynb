{
  "cells": [
    {
      "cell_type": "markdown",
      "metadata": {
        "id": "Cp4QI7Wv4Nls"
      },
      "source": [
        "**Однонаправленная LSTM с посимвольной токенизацией:**"
      ]
    },
    {
      "cell_type": "code",
      "execution_count": null,
      "metadata": {
        "id": "C9p_75z5oaRN"
      },
      "outputs": [],
      "source": [
        "import numpy as np\n",
        "import os\n",
        "\n",
        "import tensorflow as tf\n",
        "from tensorflow.data import Dataset, AUTOTUNE\n",
        "from tensorflow import keras\n",
        "import keras.layers as l\n",
        "\n",
        "from keras import models, callbacks, utils, losses\n"
      ]
    },
    {
      "cell_type": "code",
      "execution_count": null,
      "metadata": {
        "id": "pBNXFJWb4d0O"
      },
      "outputs": [],
      "source": [
        "from typing import List\n",
        "from bs4 import BeautifulSoup\n",
        "import requests\n",
        "import os\n",
        "def request_url(url: str) -> BeautifulSoup:\n",
        "    request = requests.get(url)\n",
        "    soup = BeautifulSoup(request.content, 'html.parser')\n",
        "    return soup\n",
        "\n",
        "\n",
        "def get_url_data(url: str) -> List[str]:\n",
        "    soup = request_url(url)\n",
        "    scrapped_text = []\n",
        "\n",
        "    h1 = soup.h1.text.strip()\n",
        "    p = soup.find_all('p')\n",
        "\n",
        "    scrapped_text.append(h1)\n",
        "    scrapped_text.extend([p_i.text.strip() for p_i in p])\n",
        "\n",
        "    return scrapped_text\n",
        "\n",
        "def get_data(url: str) -> str:\n",
        "    soup = request_url(url)\n",
        "    text = []\n",
        "\n",
        "    text.extend([\n",
        "        soup.h1.text.strip() + '.',\n",
        "        soup.h2.text.strip() + '.',\n",
        "        soup.article.p.text.strip()\n",
        "    ])\n",
        "\n",
        "    url_chapters = [link.get('href') for link in soup.find_all('a', class_='link')]\n",
        "\n",
        "    for url in url_chapters:\n",
        "        scrapped_text = get_url_data(url)\n",
        "        text.extend(scrapped_text)\n",
        "\n",
        "    text = ' '.join(text).lower()\n",
        "\n",
        "    return text"
      ]
    },
    {
      "cell_type": "code",
      "execution_count": null,
      "metadata": {
        "id": "RP6jRZI34r9u"
      },
      "outputs": [],
      "source": [
        "def load_data(url: str, file_name: str, path_dir: str = 'data/') -> str:\n",
        "    if os.path.isdir(path_dir) == False:\n",
        "        os.mkdir(path_dir)\n",
        "        print(f'Created {path_dir} directory')\n",
        "\n",
        "    path_file = f'{path_dir}{file_name}'\n",
        "\n",
        "    try:\n",
        "        with open(path_file, 'r', encoding='utf-8') as file:\n",
        "            text = file.read()\n",
        "\n",
        "        print('Uploaded from', path_file)\n",
        "\n",
        "    except:\n",
        "        text = get_data(url)\n",
        "\n",
        "        with open(path_file, 'w', encoding='utf-8') as file:\n",
        "            file.write(text)\n",
        "\n",
        "        print('Saved to', path_file)\n",
        "\n",
        "    return text"
      ]
    },
    {
      "cell_type": "code",
      "execution_count": null,
      "metadata": {
        "colab": {
          "base_uri": "https://localhost:8080/"
        },
        "id": "hjoAPt3M4vvp",
        "outputId": "6c48bd0d-23ad-49aa-d8c7-6490849c4b9a"
      },
      "outputs": [
        {
          "output_type": "stream",
          "name": "stdout",
          "text": [
            "Created data/ directory\n",
            "Saved to data/hpmor.txt\n"
          ]
        }
      ],
      "source": [
        "text = load_data('https://hpmor.ru/', 'hpmor.txt')"
      ]
    },
    {
      "cell_type": "markdown",
      "metadata": {
        "id": "30G049cn46RM"
      },
      "source": [
        "**Токенизация:**"
      ]
    },
    {
      "cell_type": "code",
      "execution_count": null,
      "metadata": {
        "colab": {
          "base_uri": "https://localhost:8080/"
        },
        "id": "syhEBEua4zDf",
        "outputId": "a49605c0-beba-425e-e6dd-e309552f71a3"
      },
      "outputs": [
        {
          "output_type": "execute_result",
          "data": {
            "text/plain": [
              "array(['\\n', ' ', '!', '#', '$', '%', '&', '(', ')', '*', '+', ',', '-',\n",
              "       '.', '/', '0', '1', '2', '3', '4', '5', '6', '7', '8', '9', ':',\n",
              "       ';', '=', '?', '[', '\\\\', ']', '_', 'a', 'b', 'c', 'd', 'e', 'f',\n",
              "       'g', 'h', 'i', 'j', 'k', 'l', 'm', 'n', 'o', 'p', 'q', 'r', 's',\n",
              "       't', 'u', 'v', 'w', 'x', 'y', 'z', '«', '»', '×', 'é', 'ð', 'ó',\n",
              "       'þ', '́', 'а', 'б', 'в', 'г', 'д', 'е', 'ж', 'з', 'и', 'й', 'к',\n",
              "       'л', 'м', 'н', 'о', 'п', 'р', 'с', 'т', 'у', 'ф', 'х', 'ц', 'ч',\n",
              "       'ш', 'щ', 'ъ', 'ы', 'ь', 'э', 'ю', 'я', 'ё', 'ѝ', '–', '—', '’',\n",
              "       '“', '”', '„', '…', '№', '∀', '∄', '−'], dtype='<U1')"
            ]
          },
          "metadata": {},
          "execution_count": 5
        }
      ],
      "source": [
        "dictionary = np.array(sorted(set(text)))\n",
        "dictionary"
      ]
    },
    {
      "cell_type": "code",
      "execution_count": null,
      "metadata": {
        "id": "dHq0rh-_42Ba"
      },
      "outputs": [],
      "source": [
        "tokenizer_word_to_index_symbol = {char: i for i, char in enumerate(dictionary)}\n",
        "tokenizer_index_to_word_symbol = {i: char for i, char in enumerate(dictionary)}"
      ]
    },
    {
      "cell_type": "markdown",
      "metadata": {
        "id": "tTX0fI_slVoU"
      },
      "source": [
        "**Формирование датасета:**"
      ]
    },
    {
      "cell_type": "code",
      "execution_count": null,
      "metadata": {
        "id": "RLh32rvMla3L"
      },
      "outputs": [],
      "source": [
        "vectorized_text = np.array([tokenizer_word_to_index_symbol[char] for char in text])"
      ]
    },
    {
      "cell_type": "code",
      "execution_count": null,
      "metadata": {
        "id": "-kyeH3Q6lttD"
      },
      "outputs": [],
      "source": [
        "vectorized_text = Dataset.from_tensor_slices(vectorized_text)"
      ]
    },
    {
      "cell_type": "code",
      "execution_count": null,
      "metadata": {
        "id": "eDkCqwGTl1Dh"
      },
      "outputs": [],
      "source": [
        "VOCAB_LEN = len(tokenizer_word_to_index_symbol.items())\n",
        "BATCH_SIZE = 100"
      ]
    },
    {
      "cell_type": "code",
      "execution_count": null,
      "metadata": {
        "id": "VF_Z9tQll1vH"
      },
      "outputs": [],
      "source": [
        "sequences = vectorized_text.batch(BATCH_SIZE, drop_remainder=True)"
      ]
    },
    {
      "cell_type": "code",
      "execution_count": null,
      "metadata": {
        "id": "h0EGY8mPmiCz"
      },
      "outputs": [],
      "source": [
        "BATCHES_PER_EPOCH = len(sequences) // BATCH_SIZE"
      ]
    },
    {
      "cell_type": "code",
      "execution_count": null,
      "metadata": {
        "id": "o36kSqFnnLXg"
      },
      "outputs": [],
      "source": [
        "from typing import Tuple, List\n",
        "def get_features_target(seq: tf.Tensor) -> Tuple[tf.Tensor, tf.Tensor]:\n",
        "    features = seq[:-1]\n",
        "    target = seq[1:]\n",
        "    return features, target"
      ]
    },
    {
      "cell_type": "code",
      "execution_count": null,
      "metadata": {
        "id": "7CCKaL8CmunR"
      },
      "outputs": [],
      "source": [
        "df = sequences.map(get_features_target).batch(BATCH_SIZE, drop_remainder=True).repeat()\n",
        "df = df.prefetch(AUTOTUNE)"
      ]
    },
    {
      "cell_type": "markdown",
      "metadata": {
        "id": "fgyHO6wr5VtP"
      },
      "source": [
        "**Построение и обучение модели:**"
      ]
    },
    {
      "cell_type": "code",
      "execution_count": null,
      "metadata": {
        "id": "6-vDoNpMqurz"
      },
      "outputs": [],
      "source": [
        "vectorizer = keras.layers.experimental.preprocessing.TextVectorization(\n",
        "    max_tokens=len(dictionary),\n",
        "    input_shape=(1,))"
      ]
    },
    {
      "cell_type": "code",
      "execution_count": null,
      "metadata": {
        "id": "NpvdYDddryYB"
      },
      "outputs": [],
      "source": [
        "import keras.layers as l\n",
        "model = keras.Sequential([\n",
        "    l.Embedding(len(dictionary), BATCH_SIZE, batch_input_shape=[BATCH_SIZE, None]),\n",
        "    l.LSTM(64, return_sequences=True, stateful=True),\n",
        "    l.Dense(len(dictionary))\n",
        "])"
      ]
    },
    {
      "cell_type": "code",
      "execution_count": null,
      "metadata": {
        "colab": {
          "base_uri": "https://localhost:8080/"
        },
        "id": "tcLAVTuTovGi",
        "outputId": "80165778-55a2-4495-9c03-42102824b839"
      },
      "outputs": [
        {
          "output_type": "stream",
          "name": "stdout",
          "text": [
            "Model: \"sequential_1\"\n",
            "_________________________________________________________________\n",
            " Layer (type)                Output Shape              Param #   \n",
            "=================================================================\n",
            " embedding_1 (Embedding)     (100, None, 100)          11200     \n",
            "                                                                 \n",
            " lstm_1 (LSTM)               (100, None, 64)           42240     \n",
            "                                                                 \n",
            " dense_1 (Dense)             (100, None, 112)          7280      \n",
            "                                                                 \n",
            "=================================================================\n",
            "Total params: 60720 (237.19 KB)\n",
            "Trainable params: 60720 (237.19 KB)\n",
            "Non-trainable params: 0 (0.00 Byte)\n",
            "_________________________________________________________________\n"
          ]
        }
      ],
      "source": [
        "model.summary()"
      ]
    },
    {
      "cell_type": "code",
      "execution_count": null,
      "metadata": {
        "id": "zqWZUuiG5zZT"
      },
      "outputs": [],
      "source": [
        "model.compile(\n",
        "    optimizer='adam',\n",
        "    loss=losses.SparseCategoricalCrossentropy(from_logits=True),\n",
        "    metrics=['accuracy']\n",
        ")"
      ]
    },
    {
      "cell_type": "code",
      "execution_count": null,
      "metadata": {
        "colab": {
          "base_uri": "https://localhost:8080/"
        },
        "id": "cBvCSKQ053zH",
        "outputId": "30a8b5a9-7f06-4fad-da8c-e7141df5525f"
      },
      "outputs": [
        {
          "output_type": "stream",
          "name": "stdout",
          "text": [
            "Epoch 1/100\n",
            "360/360 [==============================] - 17s 38ms/step - loss: 3.0227 - accuracy: 0.2031\n",
            "Epoch 2/100\n",
            "360/360 [==============================] - 10s 28ms/step - loss: 2.5494 - accuracy: 0.2631\n",
            "Epoch 3/100\n",
            "360/360 [==============================] - 10s 27ms/step - loss: 2.4260 - accuracy: 0.2935\n",
            "Epoch 4/100\n",
            "360/360 [==============================] - 8s 22ms/step - loss: 2.3170 - accuracy: 0.3280\n",
            "Epoch 5/100\n",
            "360/360 [==============================] - 10s 27ms/step - loss: 2.2249 - accuracy: 0.3534\n",
            "Epoch 6/100\n",
            "360/360 [==============================] - 9s 25ms/step - loss: 2.1474 - accuracy: 0.3742\n",
            "Epoch 7/100\n",
            "360/360 [==============================] - 8s 23ms/step - loss: 2.0841 - accuracy: 0.3911\n",
            "Epoch 8/100\n",
            "360/360 [==============================] - 9s 26ms/step - loss: 2.0321 - accuracy: 0.4055\n",
            "Epoch 9/100\n",
            "360/360 [==============================] - 10s 28ms/step - loss: 1.9872 - accuracy: 0.4187\n",
            "Epoch 10/100\n",
            "360/360 [==============================] - 8s 22ms/step - loss: 1.9500 - accuracy: 0.4294\n",
            "Epoch 11/100\n",
            "360/360 [==============================] - 10s 27ms/step - loss: 1.9189 - accuracy: 0.4378\n",
            "Epoch 12/100\n",
            "360/360 [==============================] - 9s 26ms/step - loss: 1.8928 - accuracy: 0.4450\n",
            "Epoch 13/100\n",
            "360/360 [==============================] - 8s 23ms/step - loss: 1.8707 - accuracy: 0.4513\n",
            "Epoch 14/100\n",
            "360/360 [==============================] - 10s 27ms/step - loss: 1.8518 - accuracy: 0.4564\n",
            "Epoch 15/100\n",
            "360/360 [==============================] - 10s 28ms/step - loss: 1.8353 - accuracy: 0.4604\n",
            "Epoch 16/100\n",
            "360/360 [==============================] - 8s 22ms/step - loss: 1.8210 - accuracy: 0.4638\n",
            "Epoch 17/100\n",
            "360/360 [==============================] - 9s 26ms/step - loss: 1.8082 - accuracy: 0.4671\n",
            "Epoch 18/100\n",
            "360/360 [==============================] - 10s 27ms/step - loss: 1.7968 - accuracy: 0.4701\n",
            "Epoch 19/100\n",
            "360/360 [==============================] - 9s 25ms/step - loss: 1.7865 - accuracy: 0.4728\n",
            "Epoch 20/100\n",
            "360/360 [==============================] - 9s 24ms/step - loss: 1.7772 - accuracy: 0.4753\n",
            "Epoch 21/100\n",
            "360/360 [==============================] - 10s 27ms/step - loss: 1.7689 - accuracy: 0.4776\n",
            "Epoch 22/100\n",
            "360/360 [==============================] - 9s 26ms/step - loss: 1.7613 - accuracy: 0.4796\n",
            "Epoch 23/100\n",
            "360/360 [==============================] - 8s 23ms/step - loss: 1.7543 - accuracy: 0.4815\n",
            "Epoch 24/100\n",
            "360/360 [==============================] - 9s 26ms/step - loss: 1.7478 - accuracy: 0.4832\n",
            "Epoch 25/100\n",
            "360/360 [==============================] - 10s 27ms/step - loss: 1.7419 - accuracy: 0.4847\n",
            "Epoch 26/100\n",
            "360/360 [==============================] - 8s 21ms/step - loss: 1.7364 - accuracy: 0.4862\n",
            "Epoch 27/100\n",
            "360/360 [==============================] - 10s 27ms/step - loss: 1.7313 - accuracy: 0.4877\n",
            "Epoch 28/100\n",
            "360/360 [==============================] - 10s 27ms/step - loss: 1.7265 - accuracy: 0.4891\n",
            "Epoch 29/100\n",
            "360/360 [==============================] - 8s 21ms/step - loss: 1.7221 - accuracy: 0.4903\n",
            "Epoch 30/100\n",
            "360/360 [==============================] - 9s 25ms/step - loss: 1.7178 - accuracy: 0.4916\n",
            "Epoch 31/100\n",
            "360/360 [==============================] - 9s 26ms/step - loss: 1.7138 - accuracy: 0.4928\n",
            "Epoch 32/100\n",
            "360/360 [==============================] - 8s 23ms/step - loss: 1.7100 - accuracy: 0.4939\n",
            "Epoch 33/100\n",
            "360/360 [==============================] - 9s 26ms/step - loss: 1.7065 - accuracy: 0.4949\n",
            "Epoch 34/100\n",
            "360/360 [==============================] - 9s 26ms/step - loss: 1.7031 - accuracy: 0.4958\n",
            "Epoch 35/100\n",
            "360/360 [==============================] - 8s 23ms/step - loss: 1.6999 - accuracy: 0.4966\n",
            "Epoch 36/100\n",
            "360/360 [==============================] - 9s 26ms/step - loss: 1.6969 - accuracy: 0.4975\n",
            "Epoch 37/100\n",
            "360/360 [==============================] - 9s 26ms/step - loss: 1.6941 - accuracy: 0.4982\n",
            "Epoch 38/100\n",
            "360/360 [==============================] - 8s 22ms/step - loss: 1.6913 - accuracy: 0.4988\n",
            "Epoch 39/100\n",
            "360/360 [==============================] - 9s 26ms/step - loss: 1.6887 - accuracy: 0.4995\n",
            "Epoch 40/100\n",
            "360/360 [==============================] - 10s 27ms/step - loss: 1.6862 - accuracy: 0.5001\n",
            "Epoch 41/100\n",
            "360/360 [==============================] - 8s 23ms/step - loss: 1.6837 - accuracy: 0.5006\n",
            "Epoch 42/100\n",
            "360/360 [==============================] - 9s 26ms/step - loss: 1.6814 - accuracy: 0.5012\n",
            "Epoch 43/100\n",
            "360/360 [==============================] - 10s 27ms/step - loss: 1.6792 - accuracy: 0.5019\n",
            "Epoch 44/100\n",
            "360/360 [==============================] - 8s 22ms/step - loss: 1.6771 - accuracy: 0.5025\n",
            "Epoch 45/100\n",
            "360/360 [==============================] - 10s 27ms/step - loss: 1.6750 - accuracy: 0.5031\n",
            "Epoch 46/100\n",
            "360/360 [==============================] - 9s 26ms/step - loss: 1.6731 - accuracy: 0.5036\n",
            "Epoch 47/100\n",
            "360/360 [==============================] - 9s 25ms/step - loss: 1.6711 - accuracy: 0.5042\n",
            "Epoch 48/100\n",
            "360/360 [==============================] - 9s 24ms/step - loss: 1.6693 - accuracy: 0.5047\n",
            "Epoch 49/100\n",
            "360/360 [==============================] - 10s 26ms/step - loss: 1.6675 - accuracy: 0.5052\n",
            "Epoch 50/100\n",
            "360/360 [==============================] - 10s 27ms/step - loss: 1.6658 - accuracy: 0.5057\n",
            "Epoch 51/100\n",
            "360/360 [==============================] - 9s 25ms/step - loss: 1.6641 - accuracy: 0.5061\n",
            "Epoch 52/100\n",
            "360/360 [==============================] - 10s 27ms/step - loss: 1.6625 - accuracy: 0.5066\n",
            "Epoch 53/100\n",
            "360/360 [==============================] - 10s 28ms/step - loss: 1.6610 - accuracy: 0.5070\n",
            "Epoch 54/100\n",
            "360/360 [==============================] - 8s 22ms/step - loss: 1.6596 - accuracy: 0.5074\n",
            "Epoch 55/100\n",
            "360/360 [==============================] - 10s 28ms/step - loss: 1.6581 - accuracy: 0.5078\n",
            "Epoch 56/100\n",
            "360/360 [==============================] - 10s 26ms/step - loss: 1.6568 - accuracy: 0.5081\n",
            "Epoch 57/100\n",
            "360/360 [==============================] - 9s 25ms/step - loss: 1.6555 - accuracy: 0.5085\n",
            "Epoch 58/100\n",
            "360/360 [==============================] - 9s 26ms/step - loss: 1.6542 - accuracy: 0.5088\n",
            "Epoch 59/100\n",
            "360/360 [==============================] - 10s 27ms/step - loss: 1.6530 - accuracy: 0.5091\n",
            "Epoch 60/100\n",
            "360/360 [==============================] - 10s 28ms/step - loss: 1.6518 - accuracy: 0.5094\n",
            "Epoch 61/100\n",
            "360/360 [==============================] - 8s 22ms/step - loss: 1.6506 - accuracy: 0.5096\n",
            "Epoch 62/100\n",
            "360/360 [==============================] - 10s 28ms/step - loss: 1.6495 - accuracy: 0.5099\n",
            "Epoch 63/100\n",
            "360/360 [==============================] - 10s 27ms/step - loss: 1.6484 - accuracy: 0.5102\n",
            "Epoch 64/100\n",
            "360/360 [==============================] - 8s 23ms/step - loss: 1.6473 - accuracy: 0.5104\n",
            "Epoch 65/100\n",
            "360/360 [==============================] - 10s 28ms/step - loss: 1.6463 - accuracy: 0.5107\n",
            "Epoch 66/100\n",
            "360/360 [==============================] - 10s 27ms/step - loss: 1.6453 - accuracy: 0.5110\n",
            "Epoch 67/100\n",
            "360/360 [==============================] - 10s 27ms/step - loss: 1.6443 - accuracy: 0.5112\n",
            "Epoch 68/100\n",
            "360/360 [==============================] - 9s 25ms/step - loss: 1.6433 - accuracy: 0.5115\n",
            "Epoch 69/100\n",
            "360/360 [==============================] - 10s 27ms/step - loss: 1.6424 - accuracy: 0.5117\n",
            "Epoch 70/100\n",
            "360/360 [==============================] - 9s 26ms/step - loss: 1.6415 - accuracy: 0.5120\n",
            "Epoch 71/100\n",
            "360/360 [==============================] - 8s 23ms/step - loss: 1.6406 - accuracy: 0.5123\n",
            "Epoch 72/100\n",
            "360/360 [==============================] - 9s 25ms/step - loss: 1.6397 - accuracy: 0.5125\n",
            "Epoch 73/100\n",
            "360/360 [==============================] - 10s 27ms/step - loss: 1.6388 - accuracy: 0.5128\n",
            "Epoch 74/100\n",
            "360/360 [==============================] - 8s 21ms/step - loss: 1.6380 - accuracy: 0.5130\n",
            "Epoch 75/100\n",
            "360/360 [==============================] - 10s 27ms/step - loss: 1.6372 - accuracy: 0.5133\n",
            "Epoch 76/100\n",
            "360/360 [==============================] - 9s 25ms/step - loss: 1.6364 - accuracy: 0.5135\n",
            "Epoch 77/100\n",
            "360/360 [==============================] - 8s 23ms/step - loss: 1.6356 - accuracy: 0.5137\n",
            "Epoch 78/100\n",
            "360/360 [==============================] - 9s 26ms/step - loss: 1.6348 - accuracy: 0.5139\n",
            "Epoch 79/100\n",
            "360/360 [==============================] - 10s 27ms/step - loss: 1.6341 - accuracy: 0.5141\n",
            "Epoch 80/100\n",
            "360/360 [==============================] - 8s 22ms/step - loss: 1.6334 - accuracy: 0.5143\n",
            "Epoch 81/100\n",
            "360/360 [==============================] - 9s 26ms/step - loss: 1.6327 - accuracy: 0.5145\n",
            "Epoch 82/100\n",
            "360/360 [==============================] - 10s 27ms/step - loss: 1.6320 - accuracy: 0.5147\n",
            "Epoch 83/100\n",
            "360/360 [==============================] - 8s 22ms/step - loss: 1.6313 - accuracy: 0.5149\n",
            "Epoch 84/100\n",
            "360/360 [==============================] - 10s 27ms/step - loss: 1.6306 - accuracy: 0.5150\n",
            "Epoch 85/100\n",
            "360/360 [==============================] - 9s 26ms/step - loss: 1.6300 - accuracy: 0.5152\n",
            "Epoch 86/100\n",
            "360/360 [==============================] - 8s 22ms/step - loss: 1.6293 - accuracy: 0.5153\n",
            "Epoch 87/100\n",
            "360/360 [==============================] - 9s 26ms/step - loss: 1.6287 - accuracy: 0.5155\n",
            "Epoch 88/100\n",
            "360/360 [==============================] - 9s 26ms/step - loss: 1.6281 - accuracy: 0.5156\n",
            "Epoch 89/100\n",
            "360/360 [==============================] - 8s 23ms/step - loss: 1.6275 - accuracy: 0.5157\n",
            "Epoch 90/100\n",
            "360/360 [==============================] - 9s 25ms/step - loss: 1.6269 - accuracy: 0.5159\n",
            "Epoch 91/100\n",
            "360/360 [==============================] - 9s 25ms/step - loss: 1.6263 - accuracy: 0.5160\n",
            "Epoch 92/100\n",
            "360/360 [==============================] - 9s 24ms/step - loss: 1.6257 - accuracy: 0.5162\n",
            "Epoch 93/100\n",
            "360/360 [==============================] - 9s 24ms/step - loss: 1.6252 - accuracy: 0.5163\n",
            "Epoch 94/100\n",
            "360/360 [==============================] - 10s 27ms/step - loss: 1.6246 - accuracy: 0.5164\n",
            "Epoch 95/100\n",
            "360/360 [==============================] - 8s 22ms/step - loss: 1.6241 - accuracy: 0.5166\n",
            "Epoch 96/100\n",
            "360/360 [==============================] - 9s 25ms/step - loss: 1.6236 - accuracy: 0.5168\n",
            "Epoch 97/100\n",
            "360/360 [==============================] - 9s 25ms/step - loss: 1.6230 - accuracy: 0.5169\n",
            "Epoch 98/100\n",
            "360/360 [==============================] - 8s 21ms/step - loss: 1.6225 - accuracy: 0.5170\n",
            "Epoch 99/100\n",
            "360/360 [==============================] - 10s 27ms/step - loss: 1.6220 - accuracy: 0.5172\n",
            "Epoch 100/100\n",
            "360/360 [==============================] - 10s 26ms/step - loss: 1.6215 - accuracy: 0.5173\n"
          ]
        }
      ],
      "source": [
        "preds = model.fit(\n",
        "    df,\n",
        "    epochs=100,\n",
        "    steps_per_epoch=BATCHES_PER_EPOCH\n",
        ")"
      ]
    }
  ],
  "metadata": {
    "accelerator": "GPU",
    "colab": {
      "gpuType": "T4",
      "provenance": []
    },
    "kernelspec": {
      "display_name": "Python 3",
      "name": "python3"
    },
    "language_info": {
      "name": "python"
    }
  },
  "nbformat": 4,
  "nbformat_minor": 0
}